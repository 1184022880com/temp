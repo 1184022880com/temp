{
 "cells": [
  {
   "cell_type": "code",
   "execution_count": null,
   "metadata": {},
   "outputs": [],
   "source": []
  },
  {
   "cell_type": "code",
   "execution_count": 1,
   "metadata": {},
   "outputs": [],
   "source": [
    "import matplotlib.pyplot as plt"
   ]
  },
  {
   "cell_type": "code",
   "execution_count": null,
   "metadata": {},
   "outputs": [],
   "source": []
  },
  {
   "cell_type": "code",
   "execution_count": 29,
   "metadata": {},
   "outputs": [],
   "source": [
    "import numpy as np\n",
    "import random\n",
    "import sys\n",
    "import os\n",
    "\n",
    "TIME_SLOTS = 1\n",
    "GAMMA = 0.90\n",
    "\n",
    "class env_network:\n",
    "    def __init__(self,num_systems,num_channels,attempt_prob):\n",
    "        self.ATTEMPT_PROB = attempt_prob\n",
    "        self.NUM_SYSTEMS = num_systems\n",
    "        self.NUM_CHANNELS = num_channels\n",
    "        self.REWARD = 1\n",
    "        self.action_space = np.arange(self.NUM_CHANNELS+1)\n",
    "        self.systems_action = np.zeros([self.NUM_SYSTEMS],np.int32) \n",
    "        self.systems_observation = np.zeros([self.NUM_SYSTEMS],np.int32)\n",
    "\n",
    "    def sample(self):\n",
    "        #从[0,space)中选择系统个数的随机数\n",
    "        x =  np.random.choice(self.action_space,size=self.NUM_SYSTEMS)\n",
    "        return x\n",
    "    def step(self,action): \n",
    "        assert (action.size) == self.NUM_SYSTEMS, \"行为和系统数目的维度应该相同\"\n",
    "        channel_alloc_frequency = np.zeros([self.NUM_CHANNELS + 1],np.int32)  #0 for no chnnel access\n",
    "        obs = []\n",
    "        reward = np.zeros([self.NUM_SYSTEMS])\n",
    "        \n",
    "        #对于每个系统的action而言，这里是随机的，而且互相没法通信\n",
    "        #所以用随机的方法将每个系统的action分配好\n",
    "        j = 0\n",
    "        for  each in action:\n",
    "            prob = random.uniform(0,1)\n",
    "            if prob <= self.ATTEMPT_PROB:\n",
    "                self.systems_action[j] = each  \n",
    "                channel_alloc_frequency[each]+=1\n",
    "            j+=1\n",
    "        \n",
    "        #要么为0，要么为1\n",
    "        for i in range(1,len(channel_alloc_frequency)):\n",
    "            if channel_alloc_frequency[i] > 1:\n",
    "                channel_alloc_frequency[i] = 0\n",
    "        #信道分配频率\n",
    "        for i in range(len(action)):\n",
    "            self.systems_observation[i] = channel_alloc_frequency[self.systems_action[i]]\n",
    "            if self.systems_action[i] ==0:   #未接入信道\n",
    "                self.systems_observation[i] = 0\n",
    "            if self.systems_observation[i] == 1:\n",
    "                reward[i] = 1\n",
    "            obs.append((self.systems_observation[i],reward[i]))\n",
    "        \n",
    "        #信道容量为1 ，obs数组存入剩下的信道容量\n",
    "        residual_channel_capacity = channel_alloc_frequency[1:]\n",
    "        residual_channel_capacity = 1-residual_channel_capacity\n",
    "        obs.append(residual_channel_capacity)\n",
    "        return obs"
   ]
  },
  {
   "cell_type": "code",
   "execution_count": 38,
   "metadata": {},
   "outputs": [
    {
     "name": "stdout",
     "output_type": "stream",
     "text": [
      "[5 0 2 5 0 0]\n",
      "[(0, 0.0), (0, 0.0), (1, 1.0), (0, 0.0), (0, 0.0), (0, 0.0), array([1, 0, 1, 1, 1])]\n"
     ]
    }
   ],
   "source": [
    "NUM_SYSTEMS = 6\n",
    "NUM_CHANNELS = 5\n",
    "ATTEMPT_PROB = 1\n",
    "env = env_network(NUM_SYSTEMS,NUM_CHANNELS,ATTEMPT_PROB)\n",
    "action = env.sample()\n",
    "print (action)\n",
    "obs = env.step(action)\n",
    "print(obs)"
   ]
  },
  {
   "cell_type": "code",
   "execution_count": 34,
   "metadata": {},
   "outputs": [
    {
     "name": "stdout",
     "output_type": "stream",
     "text": [
      "[4 2 3 2 3 0]\n"
     ]
    }
   ],
   "source": [
    "action = np.array([1,2,3,1,2,3])\n",
    "obs = env.step(action)\n",
    "print(obs)"
   ]
  },
  {
   "cell_type": "code",
   "execution_count": 35,
   "metadata": {},
   "outputs": [
    {
     "name": "stdout",
     "output_type": "stream",
     "text": [
      "[(1, 1.0), (0, 0.0), (0, 0.0), (0, 0.0), (0, 0.0), (0, 0.0), array([1, 1, 1, 0, 1])]\n"
     ]
    }
   ],
   "source": []
  },
  {
   "cell_type": "code",
   "execution_count": 18,
   "metadata": {},
   "outputs": [
    {
     "name": "stdout",
     "output_type": "stream",
     "text": [
      "[(1, 1.0), (1, 1.0), (0, 0.0), (1, 1.0), (0, 0.0), (1, 1.0), array([0, 0, 0, 1, 1])]\n"
     ]
    }
   ],
   "source": []
  },
  {
   "cell_type": "code",
   "execution_count": 37,
   "metadata": {},
   "outputs": [
    {
     "name": "stdout",
     "output_type": "stream",
     "text": [
      "[4 5 3 2 3 2]\n",
      "[(1, 1.0), (1, 1.0), (0, 0.0), (0, 0.0), (0, 0.0), (0, 0.0), array([1, 1, 1, 0, 0])]\n",
      "2.0\n",
      "***************\n",
      "[2 1 1 3 3 3]\n",
      "[(1, 1.0), (0, 0.0), (0, 0.0), (0, 0.0), (0, 0.0), (0, 0.0), array([1, 0, 1, 1, 1])]\n",
      "1.0\n",
      "***************\n",
      "[5 0 4 4 4 5]\n",
      "[(0, 0.0), (0, 0.0), (0, 0.0), (0, 0.0), (0, 0.0), (0, 0.0), array([1, 1, 1, 1, 1])]\n",
      "0.0\n",
      "***************\n",
      "[3 2 0 3 1 5]\n",
      "[(0, 0.0), (1, 1.0), (0, 0.0), (0, 0.0), (1, 1.0), (1, 1.0), array([0, 0, 1, 1, 0])]\n",
      "3.0\n",
      "***************\n",
      "[5 3 0 4 2 3]\n",
      "[(1, 1.0), (0, 0.0), (0, 0.0), (1, 1.0), (1, 1.0), (0, 0.0), array([1, 0, 1, 0, 0])]\n",
      "3.0\n",
      "***************\n"
     ]
    },
    {
     "data": {
      "image/png": "[encoded data removed]",
      "text/plain": [
       "<Figure size 432x288 with 1 Axes>"
      ]
     },
     "metadata": {
      "needs_background": "light"
     },
     "output_type": "display_data"
    }
   ],
   "source": [
    "TIME_SLOTS = 5\n",
    "total_rewards = []\n",
    "for i in range(TIME_SLOTS):\n",
    "    action = env.sample()\n",
    "    print (action)\n",
    "    obs = env.step(action)\n",
    "    print (obs)\n",
    "    rewards = [i[1] for i in obs[:NUM_SYSTEMS]]\n",
    "    reward_sum = np.sum(rewards)\n",
    "    print (reward_sum)\n",
    "    total_rewards.append(reward_sum)\n",
    "    print (\"***************\")\n",
    "plt.plot(np.arange(TIME_SLOTS), total_rewards,'r+')\n",
    "plt.show()"
   ]
  },
  {
   "cell_type": "code",
   "execution_count": null,
   "metadata": {},
   "outputs": [],
   "source": [
    "plt.plot(np.arange(TIME_SLOTS), total_rewards,'r+')\n",
    "plt.show()"
   ]
  },
  {
   "cell_type": "code",
   "execution_count": 20,
   "metadata": {},
   "outputs": [],
   "source": [
    "TIME_SLOTS = 50\n",
    "total_rewards = []\n",
    "for i in range(TIME_SLOTS):\n",
    "    action = env.sample()\n",
    "    obs = env.step(action)\n",
    "    rewards = [i[1] for i in obs[:NUM_SYSTEMS]]\n",
    "    reward_sum = np.sum(rewards)\n",
    "    total_rewards.append(reward_sum)"
   ]
  },
  {
   "cell_type": "code",
   "execution_count": 21,
   "metadata": {},
   "outputs": [
    {
     "data": {
      "image/png": "[encoded data removed]",
      "text/plain": [
       "<Figure size 432x288 with 1 Axes>"
      ]
     },
     "metadata": {
      "needs_background": "light"
     },
     "output_type": "display_data"
    }
   ],
   "source": [
    "plt.plot(np.arange(TIME_SLOTS), total_rewards,'r+')\n",
    "plt.show()"
   ]
  },
  {
   "cell_type": "code",
   "execution_count": null,
   "metadata": {},
   "outputs": [],
   "source": []
  }
 ],
 "metadata": {
  "kernelspec": {
   "display_name": "py36",
   "language": "python",
   "name": "py36"
  },
  "language_info": {
   "codemirror_mode": {
    "name": "ipython",
    "version": 3
   },
   "file_extension": ".py",
   "mimetype": "text/x-python",
   "name": "python",
   "nbconvert_exporter": "python",
   "pygments_lexer": "ipython3",
   "version": "3.6.9"
  }
 },
 "nbformat": 4,
 "nbformat_minor": 2
}
